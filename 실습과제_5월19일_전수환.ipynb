{
  "nbformat": 4,
  "nbformat_minor": 0,
  "metadata": {
    "colab": {
      "name": "실습과제_5월19일_전수환",
      "provenance": [],
      "authorship_tag": "ABX9TyN5hk7y5iUOFmXKvhm3SD8R",
      "include_colab_link": true
    },
    "kernelspec": {
      "name": "python3",
      "display_name": "Python 3"
    },
    "language_info": {
      "name": "python"
    }
  },
  "cells": [
    {
      "cell_type": "markdown",
      "metadata": {
        "id": "view-in-github",
        "colab_type": "text"
      },
      "source": [
        "<a href=\"https://colab.research.google.com/github/Benjamin-swan/github-slideshow/blob/master/%EC%8B%A4%EC%8A%B5%EA%B3%BC%EC%A0%9C_5%EC%9B%9419%EC%9D%BC_%EC%A0%84%EC%88%98%ED%99%98.ipynb\" target=\"_parent\"><img src=\"https://colab.research.google.com/assets/colab-badge.svg\" alt=\"Open In Colab\"/></a>"
      ]
    },
    {
      "cell_type": "code",
      "metadata": {
        "colab": {
          "base_uri": "https://localhost:8080/"
        },
        "id": "YJUfI4UlMNIL",
        "outputId": "82e4019e-921e-4660-951a-63b7a48b4bdf"
      },
      "source": [
        "print ('hello Pytho 수환!!')"
      ],
      "execution_count": null,
      "outputs": [
        {
          "output_type": "stream",
          "text": [
            "hello Pytho 수환!!\n"
          ],
          "name": "stdout"
        }
      ]
    },
    {
      "cell_type": "code",
      "metadata": {
        "colab": {
          "base_uri": "https://localhost:8080/"
        },
        "id": "CCBFyvsuMYuq",
        "outputId": "450dc3aa-8b45-4b2a-a256-836859cf4006"
      },
      "source": [
        "print('hello Pytho!1' + '안녕! 김지능')"
      ],
      "execution_count": null,
      "outputs": [
        {
          "output_type": "stream",
          "text": [
            "hello Pytho!1안녕! 김지능\n"
          ],
          "name": "stdout"
        }
      ]
    },
    {
      "cell_type": "code",
      "metadata": {
        "colab": {
          "base_uri": "https://localhost:8080/"
        },
        "id": "mQZhn0huMdaB",
        "outputId": "e514e215-5663-45cc-8e42-5470eb344a65"
      },
      "source": [
        "2+2"
      ],
      "execution_count": null,
      "outputs": [
        {
          "output_type": "execute_result",
          "data": {
            "text/plain": [
              "4"
            ]
          },
          "metadata": {
            "tags": []
          },
          "execution_count": 6
        }
      ]
    },
    {
      "cell_type": "code",
      "metadata": {
        "colab": {
          "base_uri": "https://localhost:8080/"
        },
        "id": "az3vNAXqMe4x",
        "outputId": "816f3cc8-49cb-4a88-bad1-6d42258e8dac"
      },
      "source": [
        "2/2"
      ],
      "execution_count": null,
      "outputs": [
        {
          "output_type": "execute_result",
          "data": {
            "text/plain": [
              "1.0"
            ]
          },
          "metadata": {
            "tags": []
          },
          "execution_count": 7
        }
      ]
    },
    {
      "cell_type": "code",
      "metadata": {
        "colab": {
          "base_uri": "https://localhost:8080/"
        },
        "id": "YCLXKmSPMfSx",
        "outputId": "c8d96e16-6e2e-424e-d3fb-6341352ac122"
      },
      "source": [
        "2//2"
      ],
      "execution_count": null,
      "outputs": [
        {
          "output_type": "execute_result",
          "data": {
            "text/plain": [
              "1"
            ]
          },
          "metadata": {
            "tags": []
          },
          "execution_count": 8
        }
      ]
    },
    {
      "cell_type": "code",
      "metadata": {
        "colab": {
          "base_uri": "https://localhost:8080/"
        },
        "id": "xAWbBxfXMf6h",
        "outputId": "67513a64-ed4e-4147-8feb-2129a504ade9"
      },
      "source": [
        "2+2\n",
        "5+10"
      ],
      "execution_count": null,
      "outputs": [
        {
          "output_type": "execute_result",
          "data": {
            "text/plain": [
              "15"
            ]
          },
          "metadata": {
            "tags": []
          },
          "execution_count": 9
        }
      ]
    },
    {
      "cell_type": "code",
      "metadata": {
        "colab": {
          "base_uri": "https://localhost:8080/"
        },
        "id": "64rvYq0wMhyx",
        "outputId": "5e8759e8-56cb-4178-8fc3-1b12a3d75666"
      },
      "source": [
        "10%3"
      ],
      "execution_count": null,
      "outputs": [
        {
          "output_type": "execute_result",
          "data": {
            "text/plain": [
              "1"
            ]
          },
          "metadata": {
            "tags": []
          },
          "execution_count": 10
        }
      ]
    },
    {
      "cell_type": "code",
      "metadata": {
        "colab": {
          "base_uri": "https://localhost:8080/"
        },
        "id": "a-aYld0cMjKh",
        "outputId": "36c06df8-c149-48e0-94f8-c65945dc57d6"
      },
      "source": [
        "print('2+2')"
      ],
      "execution_count": null,
      "outputs": [
        {
          "output_type": "stream",
          "text": [
            "2+2\n"
          ],
          "name": "stdout"
        }
      ]
    },
    {
      "cell_type": "code",
      "metadata": {
        "colab": {
          "base_uri": "https://localhost:8080/"
        },
        "id": "vtQcHrJlMpDR",
        "outputId": "8e2cc34d-b7c4-4b61-dd11-d6fb89788ddb"
      },
      "source": [
        "print(5-7)\n",
        "print(8*9)\n",
        "print(10/2)\n",
        "print(10//2)\n",
        "print(10%2)\n",
        "print(3**2)"
      ],
      "execution_count": null,
      "outputs": [
        {
          "output_type": "stream",
          "text": [
            "-2\n",
            "72\n",
            "5.0\n",
            "5\n",
            "0\n",
            "9\n"
          ],
          "name": "stdout"
        }
      ]
    },
    {
      "cell_type": "code",
      "metadata": {
        "colab": {
          "base_uri": "https://localhost:8080/"
        },
        "id": "wp7MINuFMrd5",
        "outputId": "5a45a9e0-e292-45ba-813c-1c3bd7e79896"
      },
      "source": [
        "print(5-7, 8*9, 10/2, 10//2,)"
      ],
      "execution_count": null,
      "outputs": [
        {
          "output_type": "stream",
          "text": [
            "-2 72 5.0 5\n"
          ],
          "name": "stdout"
        }
      ]
    },
    {
      "cell_type": "code",
      "metadata": {
        "colab": {
          "base_uri": "https://localhost:8080/"
        },
        "id": "6eGp7DsZMtIZ",
        "outputId": "ac04dca9-9229-4c2d-ecc4-4b99243b8fbb"
      },
      "source": [
        "a = 29*96\n",
        "a/8"
      ],
      "execution_count": null,
      "outputs": [
        {
          "output_type": "execute_result",
          "data": {
            "text/plain": [
              "348.0"
            ]
          },
          "metadata": {
            "tags": []
          },
          "execution_count": 16
        }
      ]
    },
    {
      "cell_type": "code",
      "metadata": {
        "colab": {
          "base_uri": "https://localhost:8080/"
        },
        "id": "a3MsQp7tMvDZ",
        "outputId": "d038dcbe-396a-4f78-a30f-e0dc7e590d3a"
      },
      "source": [
        "x=3\n",
        "queen=4\n",
        "x+queen"
      ],
      "execution_count": null,
      "outputs": [
        {
          "output_type": "execute_result",
          "data": {
            "text/plain": [
              "7"
            ]
          },
          "metadata": {
            "tags": []
          },
          "execution_count": 18
        }
      ]
    },
    {
      "cell_type": "code",
      "metadata": {
        "colab": {
          "base_uri": "https://localhost:8080/"
        },
        "id": "x7jodxyjMxGH",
        "outputId": "b5138d08-ea98-44e5-ca59-9c604163ec60"
      },
      "source": [
        "sum=3\n",
        "print(sum)\n",
        "print('sum')"
      ],
      "execution_count": null,
      "outputs": [
        {
          "output_type": "stream",
          "text": [
            "3\n",
            "sum\n"
          ],
          "name": "stdout"
        }
      ]
    },
    {
      "cell_type": "code",
      "metadata": {
        "colab": {
          "base_uri": "https://localhost:8080/"
        },
        "id": "PP1I5kZ-My1H",
        "outputId": "182647ac-f77b-4f5d-86b9-a84f98a92791"
      },
      "source": [
        "NAEME = 3\n",
        "NAEME/4"
      ],
      "execution_count": null,
      "outputs": [
        {
          "output_type": "execute_result",
          "data": {
            "text/plain": [
              "0.75"
            ]
          },
          "metadata": {
            "tags": []
          },
          "execution_count": 23
        }
      ]
    },
    {
      "cell_type": "code",
      "metadata": {
        "colab": {
          "base_uri": "https://localhost:8080/"
        },
        "id": "o_GqJgdAM6sf",
        "outputId": "b4a0623b-7481-4b2a-b5e9-7f00081d25a4"
      },
      "source": [
        "spam = 15\n",
        "spam = spam +5\n",
        "spam\n"
      ],
      "execution_count": null,
      "outputs": [
        {
          "output_type": "execute_result",
          "data": {
            "text/plain": [
              "20"
            ]
          },
          "metadata": {
            "tags": []
          },
          "execution_count": 24
        }
      ]
    },
    {
      "cell_type": "code",
      "metadata": {
        "colab": {
          "base_uri": "https://localhost:8080/"
        },
        "id": "_jGVBA5OM7Bn",
        "outputId": "a3638df8-3c70-4b0b-873d-a2c43a5772ff"
      },
      "source": [
        "eggs = 15\n",
        "fizz = 10\n",
        "spam = fizz + eggs\n",
        "spam"
      ],
      "execution_count": null,
      "outputs": [
        {
          "output_type": "execute_result",
          "data": {
            "text/plain": [
              "25"
            ]
          },
          "metadata": {
            "tags": []
          },
          "execution_count": 25
        }
      ]
    },
    {
      "cell_type": "code",
      "metadata": {
        "colab": {
          "base_uri": "https://localhost:8080/",
          "height": 35
        },
        "id": "Wcqp22pkM8y2",
        "outputId": "ebf8138d-6316-43b9-b51a-e6ff90c624d0"
      },
      "source": [
        "'hello'+'world!'"
      ],
      "execution_count": null,
      "outputs": [
        {
          "output_type": "execute_result",
          "data": {
            "application/vnd.google.colaboratory.intrinsic+json": {
              "type": "string"
            },
            "text/plain": [
              "'helloworld!'"
            ]
          },
          "metadata": {
            "tags": []
          },
          "execution_count": 29
        }
      ]
    },
    {
      "cell_type": "code",
      "metadata": {
        "colab": {
          "base_uri": "https://localhost:8080/"
        },
        "id": "JlzgqVqMNG28",
        "outputId": "c5a2449e-6aa1-410d-e6e6-f379096e605d"
      },
      "source": [
        "milk = 1850\n",
        "egg = 4000\n",
        "milk*2\n",
        "milk*2 + egg /100/5\n",
        "100/5/egg + milk*2"
      ],
      "execution_count": null,
      "outputs": [
        {
          "output_type": "execute_result",
          "data": {
            "text/plain": [
              "3700.005"
            ]
          },
          "metadata": {
            "tags": []
          },
          "execution_count": 32
        }
      ]
    },
    {
      "cell_type": "code",
      "metadata": {
        "colab": {
          "base_uri": "https://localhost:8080/"
        },
        "id": "WPGbJGeTNOK2",
        "outputId": "29ec7dd1-4e57-4ffa-f124-f2aaa9ad534c"
      },
      "source": [
        "fire = 100 \n",
        "c = 5.0/9.0*(fire-32.0) \n",
        "print('섭씨온도:', c)"
      ],
      "execution_count": null,
      "outputs": [
        {
          "output_type": "stream",
          "text": [
            "섭씨온도: 37.77777777777778\n"
          ],
          "name": "stdout"
        }
      ]
    },
    {
      "cell_type": "code",
      "metadata": {
        "colab": {
          "base_uri": "https://localhost:8080/"
        },
        "id": "wSTRGwMWNT2G",
        "outputId": "15946c34-19e8-4907-8e36-96ede8691590"
      },
      "source": [
        "# This is a guess the number game.\n",
        "\n",
        "myName = input('hello! What is your name?')\n",
        "\n",
        "number = 5 \n",
        "print ('Well' + myName + 'I am thinking of a number between1 and 20. ')\n",
        "\n",
        "guess = int(input('Take a guess!!'))\n",
        "\n",
        "if guess !=number:\n",
        "  print('You guess is wrong.')\n",
        "if guess == number : \n",
        "  print('Good job! '+myName+'! Your guessed my number.')"
      ],
      "execution_count": null,
      "outputs": [
        {
          "output_type": "stream",
          "text": [
            "hello! What is your name?soohwan\n",
            "WellsoohwanI am thinking of a number between1 and 20. \n",
            "Take a guess!!5\n",
            "Good job! soohwan! Your guessed my number.\n"
          ],
          "name": "stdout"
        }
      ]
    },
    {
      "cell_type": "code",
      "metadata": {
        "id": "ALrrWPh6QFfI"
      },
      "source": [
        ""
      ],
      "execution_count": null,
      "outputs": []
    },
    {
      "cell_type": "code",
      "metadata": {
        "id": "nhaB0UQiQFCn"
      },
      "source": [
        ""
      ],
      "execution_count": null,
      "outputs": []
    }
  ]
}